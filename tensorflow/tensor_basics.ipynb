{
 "cells": [
  {
   "cell_type": "markdown",
   "metadata": {},
   "source": [
    "## Installation\n",
    "Clicke [here](https://www.tensorflow.org/install) for detailed information.\n",
    "If you have pip installed use\n",
    "    \n",
    "    pip install tensorflow\n",
    "    \n",
    "If you have tensorflow installed successfully then you will be able to import this without any error."
   ]
  },
  {
   "cell_type": "code",
   "execution_count": 2,
   "metadata": {},
   "outputs": [
    {
     "name": "stdout",
     "output_type": "stream",
     "text": [
      "2.3.0\n"
     ]
    }
   ],
   "source": [
    "import tensorflow as tf\n",
    "print(tf.__version__)"
   ]
  },
  {
   "cell_type": "markdown",
   "metadata": {},
   "source": [
    "## To see the physical devices, whether you have gpu support or not"
   ]
  },
  {
   "cell_type": "code",
   "execution_count": 22,
   "metadata": {},
   "outputs": [
    {
     "name": "stdout",
     "output_type": "stream",
     "text": [
      "CPU: [PhysicalDevice(name='/physical_device:CPU:0', device_type='CPU')], GPU: []\n"
     ]
    }
   ],
   "source": [
    "gpu_devices = tf.config.list_physical_devices(\"GPU\")\n",
    "cpu_devices = tf.config.list_physical_devices(\"CPU\")\n",
    "print(f'CPU: {cpu_devices}, GPU: {gpu_devices}')"
   ]
  },
  {
   "cell_type": "markdown",
   "metadata": {},
   "source": [
    "## Basics of Tensors"
   ]
  },
  {
   "cell_type": "code",
   "execution_count": 21,
   "metadata": {},
   "outputs": [
    {
     "name": "stdout",
     "output_type": "stream",
     "text": [
      "tf.Tensor(4, shape=(), dtype=int32)\n",
      "tf.Tensor([[4]], shape=(1, 1), dtype=int32)\n",
      "tf.Tensor([[4.]], shape=(1, 1), dtype=float32)\n",
      "tf.Tensor([1. 2. 3. 4.], shape=(4,), dtype=float32)\n",
      "tf.Tensor(\n",
      "[[1. 2. 3. 4.]\n",
      " [5. 6. 7. 8.]], shape=(2, 4), dtype=float32)\n",
      "tf.Tensor(\n",
      "[[-1.797357    0.6587469  -0.47406766]\n",
      " [ 1.9142369   0.31566665  0.05880994]\n",
      " [-0.110662   -1.2397302  -1.0734788 ]], shape=(3, 3), dtype=float32)\n",
      "tf.Tensor(\n",
      "[[0.6457505  0.6081101  0.829921  ]\n",
      " [0.60173917 0.50384724 0.591313  ]\n",
      " [0.13897312 0.18574655 0.9755291 ]], shape=(3, 3), dtype=float32)\n",
      "tf.Tensor([0 1 2 3 4 5 6 7 8 9], shape=(10,), dtype=int32)\n"
     ]
    }
   ],
   "source": [
    "# scalar, rank-0\n",
    "x = tf.constant(4)\n",
    "print(x)\n",
    "\n",
    "x = tf.constant(4, shape = (1, 1))\n",
    "print(x)\n",
    "\n",
    "x = tf.constant(4, shape = (1, 1), dtype = tf.float32)\n",
    "print(x)\n",
    "\n",
    "# vector, rank-1 tensor\n",
    "x = tf.constant([1, 2, 3, 4], dtype = tf.float32)\n",
    "print(x)\n",
    "\n",
    "# matrix, rank-2 tensor\n",
    "x = tf.constant([[1, 2, 3, 4], [5, 6, 7, 8]], dtype = tf.float32)\n",
    "print(x)\n",
    "\n",
    "x = tf.random.normal((3, 3), mean = 0, stddev = 1)\n",
    "print(x)\n",
    "\n",
    "x = tf.random.uniform((3, 3), minval = 0, maxval = 1)\n",
    "print(x)\n",
    "\n",
    "x = tf.range(10)\n",
    "print(x)"
   ]
  },
  {
   "cell_type": "markdown",
   "metadata": {},
   "source": [
    "## Type Casting"
   ]
  },
  {
   "cell_type": "code",
   "execution_count": 25,
   "metadata": {},
   "outputs": [
    {
     "name": "stdout",
     "output_type": "stream",
     "text": [
      "tf.Tensor([0 1 2 3 4 5 6 7 8 9], shape=(10,), dtype=int32)\n",
      "tf.Tensor([0. 1. 2. 3. 4. 5. 6. 7. 8. 9.], shape=(10,), dtype=float32)\n"
     ]
    }
   ],
   "source": [
    "x = tf.range(10)\n",
    "print(x)\n",
    "\n",
    "x = tf.cast(x, dtype = tf.float32)\n",
    "print(x)"
   ]
  },
  {
   "cell_type": "markdown",
   "metadata": {},
   "source": [
    "## Operations"
   ]
  },
  {
   "cell_type": "code",
   "execution_count": 36,
   "metadata": {},
   "outputs": [
    {
     "name": "stdout",
     "output_type": "stream",
     "text": [
      "tf.Tensor([ 6  8 10 12], shape=(4,), dtype=int32)\n",
      "tf.Tensor([ 6  8 10 12], shape=(4,), dtype=int32)\n",
      "tf.Tensor([-4 -4 -4 -4], shape=(4,), dtype=int32)\n",
      "tf.Tensor([-4 -4 -4 -4], shape=(4,), dtype=int32)\n",
      "tf.Tensor([ 5 12 21 32], shape=(4,), dtype=int32)\n",
      "tf.Tensor([ 5 12 21 32], shape=(4,), dtype=int32)\n",
      "tf.Tensor([0.2        0.33333333 0.42857143 0.5       ], shape=(4,), dtype=float64)\n",
      "tf.Tensor([0.2        0.33333333 0.42857143 0.5       ], shape=(4,), dtype=float64)\n",
      "tf.Tensor([ 1  8 27 64], shape=(4,), dtype=int32)\n",
      "tf.Tensor(70, shape=(), dtype=int32)\n",
      "tf.Tensor(\n",
      "[[ 5  6  7  8]\n",
      " [10 12 14 16]\n",
      " [15 18 21 24]\n",
      " [20 24 28 32]], shape=(4, 4), dtype=int32)\n"
     ]
    }
   ],
   "source": [
    "# Element wise\n",
    "x = tf.constant([1, 2, 3, 4])\n",
    "y = tf.constant([5, 6, 7, 8])\n",
    "\n",
    "z = tf.add(x, y)\n",
    "print(z)\n",
    "\n",
    "z = x + y\n",
    "print(z)\n",
    "\n",
    "z = tf.subtract(x, y)\n",
    "print(z)\n",
    "\n",
    "z = x - y\n",
    "print(z)\n",
    "\n",
    "z = tf.multiply(x, y)\n",
    "print(z)\n",
    "\n",
    "z = x * y\n",
    "print(z)\n",
    "\n",
    "z = tf.divide(x, y)\n",
    "print(z)\n",
    "\n",
    "z = x / y\n",
    "print(z)\n",
    "\n",
    "z = x ** 3\n",
    "print(z)\n",
    "\n",
    "# Dot Product\n",
    "z = tf.tensordot(x, y, axes = 1)\n",
    "print(z)\n",
    "z = tf.tensordot(x, y, axes = 0)\n",
    "print(z)"
   ]
  },
  {
   "cell_type": "markdown",
   "metadata": {},
   "source": [
    "## Matrix Multiplication\n",
    "Shape of two matrix must satisfy the condition no. of columns in A = no. of rows in B"
   ]
  },
  {
   "cell_type": "code",
   "execution_count": 40,
   "metadata": {},
   "outputs": [
    {
     "name": "stdout",
     "output_type": "stream",
     "text": [
      "tf.Tensor(\n",
      "[[-0.706614   -0.27849272 -0.42634264  1.0168637 ]\n",
      " [-1.5816188   2.0442917  -0.08215138 -0.9442664 ]\n",
      " [ 4.3223267  -3.2489266   2.655306    1.0111902 ]], shape=(3, 4), dtype=float32)\n",
      "tf.Tensor(\n",
      "[[-0.706614   -0.27849272 -0.42634264  1.0168637 ]\n",
      " [-1.5816188   2.0442917  -0.08215138 -0.9442664 ]\n",
      " [ 4.3223267  -3.2489266   2.655306    1.0111902 ]], shape=(3, 4), dtype=float32)\n"
     ]
    }
   ],
   "source": [
    "A = tf.random.normal((3, 5))\n",
    "B = tf.random.normal((5, 4))\n",
    "z = tf.matmul(A, B)\n",
    "print(z)\n",
    "\n",
    "z = A @ B\n",
    "print(z)"
   ]
  },
  {
   "cell_type": "markdown",
   "metadata": {},
   "source": [
    "## Indexing, Slicing"
   ]
  },
  {
   "cell_type": "code",
   "execution_count": 46,
   "metadata": {},
   "outputs": [
    {
     "name": "stdout",
     "output_type": "stream",
     "text": [
      "tf.Tensor([1 2 3 4], shape=(4,), dtype=int32)\n",
      "tf.Tensor([1 5], shape=(2,), dtype=int32)\n",
      "tf.Tensor([1 2 3 4], shape=(4,), dtype=int32)\n",
      "tf.Tensor(8, shape=(), dtype=int32)\n"
     ]
    }
   ],
   "source": [
    "x = tf.constant([[1, 2, 3, 4], [5, 6, 7, 8]])\n",
    "print(x[0]) # print all elements in row 0\n",
    "print(x[:, 0]) # print first column of all rows\n",
    "print(x[0, :]) # row 0, all column\n",
    "print(x[1, 3]) # element at row 1, col 3"
   ]
  },
  {
   "cell_type": "markdown",
   "metadata": {},
   "source": [
    "## Reshape"
   ]
  },
  {
   "cell_type": "code",
   "execution_count": 57,
   "metadata": {},
   "outputs": [
    {
     "name": "stdout",
     "output_type": "stream",
     "text": [
      "tf.Tensor(\n",
      "[[-3.189018   -0.8142106  -0.5404986   0.69513977]\n",
      " [-0.3005964  -2.7341373  -0.73818946  1.692412  ]\n",
      " [-1.046133    2.4126778  -0.16878179  0.24925807]], shape=(3, 4), dtype=float32)\n",
      "tf.Tensor(\n",
      "[[-3.189018   -0.8142106  -0.5404986 ]\n",
      " [ 0.69513977 -0.3005964  -2.7341373 ]\n",
      " [-0.73818946  1.692412   -1.046133  ]\n",
      " [ 2.4126778  -0.16878179  0.24925807]], shape=(4, 3), dtype=float32)\n",
      "tf.Tensor(\n",
      "[[-3.189018   -0.8142106  -0.5404986   0.69513977 -0.3005964  -2.7341373 ]\n",
      " [-0.73818946  1.692412   -1.046133    2.4126778  -0.16878179  0.24925807]], shape=(2, 6), dtype=float32)\n",
      "tf.Tensor(\n",
      "[-3.189018   -0.8142106  -0.5404986   0.69513977 -0.3005964  -2.7341373\n",
      " -0.73818946  1.692412   -1.046133    2.4126778  -0.16878179  0.24925807], shape=(12,), dtype=float32)\n"
     ]
    }
   ],
   "source": [
    "x = tf.random.normal((3, 4))\n",
    "print(x)\n",
    "\n",
    "y = tf.reshape(x, (4, 3))\n",
    "print(y)\n",
    "\n",
    "z = tf.reshape(x, (-1, 6))\n",
    "print(z)\n",
    "\n",
    "w = tf.reshape(x, (12))\n",
    "print(w)"
   ]
  },
  {
   "cell_type": "markdown",
   "metadata": {},
   "source": [
    "## Tensor Numpy Conversion"
   ]
  },
  {
   "cell_type": "code",
   "execution_count": 63,
   "metadata": {},
   "outputs": [
    {
     "name": "stdout",
     "output_type": "stream",
     "text": [
      "tf.Tensor(\n",
      "[[ 0.5436713  -2.5905402  -2.2644565   0.13325548]\n",
      " [ 1.1554288  -1.7146541   0.6170969  -1.6931981 ]\n",
      " [-0.44344088  0.08656792  0.7424788  -1.901758  ]], shape=(3, 4), dtype=float32)\n",
      "[[ 0.5436713  -2.5905402  -2.2644565   0.13325548]\n",
      " [ 1.1554288  -1.7146541   0.6170969  -1.6931981 ]\n",
      " [-0.44344088  0.08656792  0.7424788  -1.901758  ]] <class 'numpy.ndarray'>\n",
      "tf.Tensor(\n",
      "[[ 0.5436713  -2.5905402  -2.2644565   0.13325548]\n",
      " [ 1.1554288  -1.7146541   0.6170969  -1.6931981 ]\n",
      " [-0.44344088  0.08656792  0.7424788  -1.901758  ]], shape=(3, 4), dtype=float32)\n"
     ]
    }
   ],
   "source": [
    "x = tf.random.normal((3, 4))\n",
    "print(x)\n",
    "y = x.numpy()\n",
    "print(y, type(y))\n",
    "\n",
    "z = tf.convert_to_tensor(y)\n",
    "print(z)"
   ]
  },
  {
   "cell_type": "code",
   "execution_count": null,
   "metadata": {},
   "outputs": [],
   "source": []
  }
 ],
 "metadata": {
  "kernelspec": {
   "display_name": "Python 3",
   "language": "python",
   "name": "python3"
  },
  "language_info": {
   "codemirror_mode": {
    "name": "ipython",
    "version": 3
   },
   "file_extension": ".py",
   "mimetype": "text/x-python",
   "name": "python",
   "nbconvert_exporter": "python",
   "pygments_lexer": "ipython3",
   "version": "3.8.3"
  }
 },
 "nbformat": 4,
 "nbformat_minor": 4
}
